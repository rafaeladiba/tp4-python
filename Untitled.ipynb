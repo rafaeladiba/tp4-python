{
 "cells": [
  {
   "cell_type": "markdown",
   "id": "aa954449-352e-4801-8eb7-dc708b75dab1",
   "metadata": {},
   "source": [
    "TP Bot Discord\n",
    "\n",
    "1. Qu'est-ce qu'un bot ?\n",
    "C'est un utilisateur autonome capable de faire tout ce qu'un utilisateur humain peut faire. Un bot est un utilisateur programmé pour faire certaines actions à des moments donnés.\n",
    "\n",
    "2. Qu'est-ce que le logging et à quoi ça sert ?\n",
    "Le logging consiste à stocker dans un fichier de type log un historique d'événements. \n",
    "Dans le cadre de ce tp, j'ai été amené à faire en sorte que les entrées / sorties d'un nouveau membre sur le serveur soient répertoriées dans un fichier log.\n",
    "De plus, chaque message envoyé sur le serveur est enregistré dans le log (date et heure d'envoi, utilisateur qui a écrit le message, contenu du message).\n",
    "\n",
    "Le logging est donc très utile pour avoir une trace des messages envoyés sur un serveur discord notamment, et même pour consulter des messages qui auraient été effacés.\n"
   ]
  },
  {
   "cell_type": "code",
   "execution_count": 11,
   "id": "fae91754-b2a5-4dd4-8bb5-4df10d458a38",
   "metadata": {},
   "outputs": [
    {
     "data": {
      "text/html": [
       "<img src=\"CapturesEcran/img4.png\" width=\"600\" height=\"600\"/>"
      ],
      "text/plain": [
       "<IPython.core.display.Image object>"
      ]
     },
     "execution_count": 11,
     "metadata": {},
     "output_type": "execute_result"
    }
   ],
   "source": [
    "Image(url=\"CapturesEcran/img4.png\", width=600, height=600)"
   ]
  },
  {
   "cell_type": "markdown",
   "id": "ce6e807c-0547-49e7-9022-79b3a79f3a63",
   "metadata": {},
   "source": [
    "Ici, on peut voir que quand un utilisateur rejoint le serveur du bot, un message apparaît dans le terminal."
   ]
  },
  {
   "cell_type": "code",
   "execution_count": 9,
   "id": "33a5abbc-5a16-4526-8cec-43bc53dfbec1",
   "metadata": {},
   "outputs": [
    {
     "data": {
      "text/html": [
       "<img src=\"CapturesEcran/img2.png\" width=\"600\" height=\"600\"/>"
      ],
      "text/plain": [
       "<IPython.core.display.Image object>"
      ]
     },
     "execution_count": 9,
     "metadata": {},
     "output_type": "execute_result"
    }
   ],
   "source": [
    "Image(url=\"CapturesEcran/img2.png\", width=600, height=600)"
   ]
  },
  {
   "cell_type": "markdown",
   "id": "f7e5786b-3738-4ab9-b2f8-f684c4633df5",
   "metadata": {},
   "source": [
    "Ici, on voit le fichier de log qui contient bien les différents messages envoyés par le bot et moi-même. On voit également que lorsque l'on tape \"!help\", le bot affiche les différentes commandes disponibles."
   ]
  },
  {
   "cell_type": "code",
   "execution_count": 8,
   "id": "8aa81797-f875-4fcd-a665-a98b6f55449e",
   "metadata": {},
   "outputs": [
    {
     "data": {
      "text/html": [
       "<img src=\"CapturesEcran/img1.png\" width=\"600\" height=\"600\"/>"
      ],
      "text/plain": [
       "<IPython.core.display.Image object>"
      ]
     },
     "execution_count": 8,
     "metadata": {},
     "output_type": "execute_result"
    }
   ],
   "source": [
    "from IPython.display import Image\n",
    "# get the image\n",
    "Image(url=\"CapturesEcran/img1.png\", width=600, height=600)"
   ]
  },
  {
   "cell_type": "markdown",
   "id": "0b89648b-0d4d-4c10-a6d3-4179bede33b5",
   "metadata": {},
   "source": [
    "Ici, on voit que lorsqu'un utilisateur est enlevé du serveur discord, un message est envoyé par le bot pour confirmer que l'action s'est produite."
   ]
  },
  {
   "cell_type": "code",
   "execution_count": 10,
   "id": "f94388a7-f715-4b36-920a-9b124a53659a",
   "metadata": {},
   "outputs": [
    {
     "data": {
      "text/html": [
       "<img src=\"CapturesEcran/img3.png\" width=\"600\" height=\"600\"/>"
      ],
      "text/plain": [
       "<IPython.core.display.Image object>"
      ]
     },
     "execution_count": 10,
     "metadata": {},
     "output_type": "execute_result"
    }
   ],
   "source": [
    "Image(url=\"CapturesEcran/img3.png\", width=600, height=600)"
   ]
  },
  {
   "cell_type": "markdown",
   "id": "9d17f5e6-5eaa-4613-9310-87b242b074b6",
   "metadata": {},
   "source": [
    "Dans cette deuxième version du fichier de log, on voit à la fin que l'utilisateur \"Edwin LI\" a bien été enlevé du serveur."
   ]
  }
 ],
 "metadata": {
  "kernelspec": {
   "display_name": "Python 3 (ipykernel)",
   "language": "python",
   "name": "python3"
  },
  "language_info": {
   "codemirror_mode": {
    "name": "ipython",
    "version": 3
   },
   "file_extension": ".py",
   "mimetype": "text/x-python",
   "name": "python",
   "nbconvert_exporter": "python",
   "pygments_lexer": "ipython3",
   "version": "3.9.10"
  }
 },
 "nbformat": 4,
 "nbformat_minor": 5
}
